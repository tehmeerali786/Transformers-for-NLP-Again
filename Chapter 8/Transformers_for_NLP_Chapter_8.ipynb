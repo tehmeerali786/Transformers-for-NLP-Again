{
  "nbformat": 4,
  "nbformat_minor": 0,
  "metadata": {
    "colab": {
      "name": "Transformers for NLP Chapter 8.ipynb",
      "provenance": [],
      "collapsed_sections": []
    },
    "kernelspec": {
      "name": "python3",
      "display_name": "Python 3"
    },
    "language_info": {
      "name": "python"
    }
  },
  "cells": [
    {
      "cell_type": "code",
      "metadata": {
        "colab": {
          "base_uri": "https://localhost:8080/"
        },
        "id": "0PqKaylPEv4w",
        "outputId": "96b879ac-28a1-4022-8e3e-d920a9c18bba"
      },
      "source": [
        "#@title Pre_Requisites\n",
        "!pip install --upgrade gensim\n",
        "import nltk\n",
        "nltk.download('punkt')"
      ],
      "execution_count": null,
      "outputs": [
        {
          "output_type": "stream",
          "name": "stdout",
          "text": [
            "Requirement already satisfied: gensim in /usr/local/lib/python3.7/dist-packages (4.1.2)\n",
            "Requirement already satisfied: scipy>=0.18.1 in /usr/local/lib/python3.7/dist-packages (from gensim) (1.4.1)\n",
            "Requirement already satisfied: numpy>=1.17.0 in /usr/local/lib/python3.7/dist-packages (from gensim) (1.19.5)\n",
            "Requirement already satisfied: smart-open>=1.8.1 in /usr/local/lib/python3.7/dist-packages (from gensim) (5.2.1)\n",
            "[nltk_data] Downloading package punkt to /root/nltk_data...\n",
            "[nltk_data]   Package punkt is already up-to-date!\n"
          ]
        },
        {
          "output_type": "execute_result",
          "data": {
            "text/plain": [
              "True"
            ]
          },
          "metadata": {},
          "execution_count": 1
        }
      ]
    },
    {
      "cell_type": "code",
      "metadata": {
        "id": "mbd1qkshFIcN"
      },
      "source": [
        "import math\n",
        "import numpy as np\n",
        "from nltk.tokenize import sent_tokenize, word_tokenize\n",
        "import gensim\n",
        "from gensim.models import Word2Vec\n",
        "from sklearn.metrics.pairwise import cosine_similarity \n",
        "import matplotlib.pyplot as plt\n",
        "import warnings\n",
        "warnings.filterwarnings(action='ignore')"
      ],
      "execution_count": null,
      "outputs": []
    },
    {
      "cell_type": "code",
      "metadata": {
        "colab": {
          "base_uri": "https://localhost:8080/"
        },
        "id": "HjOfafBMGDos",
        "outputId": "74362748-dc16-4334-f002-cd00dcce93e7"
      },
      "source": [
        "#@title Word2Vec Tokenization\n",
        "#'text.txt' file\n",
        "sample = open('text.txt', 'r')\n",
        "s = sample.read()\n",
        "\n",
        "# preprocessing escape charachters\n",
        "f = s.replace(\"\\n\", \" \")\n",
        "\n",
        "data = []\n",
        "# sentence parsing \n",
        "for i in sent_tokenize(f):\n",
        "  temp = []\n",
        "  # tokenize the sentence into words\n",
        "  for j in word_tokenize(i):\n",
        "    temp.append(j.lower())\n",
        "  data.append(temp)\n",
        "\n",
        "  # creating skip gram model\n",
        "model2 = gensim.models.Word2Vec(data, min_count = 1, vector_size=512, window = 5, sg = 1)\n",
        "print(model2)"
      ],
      "execution_count": null,
      "outputs": [
        {
          "output_type": "stream",
          "name": "stdout",
          "text": [
            "Word2Vec(vocab=11822, vector_size=512, alpha=0.025)\n"
          ]
        }
      ]
    },
    {
      "cell_type": "code",
      "metadata": {
        "id": "IloBpZ1VH4Ke"
      },
      "source": [
        "#@title Cosine Similarity\n",
        "def similarity(word1, word2):\n",
        "  cosine=False # default value\n",
        "  try:\n",
        "    a=model2.wv[word1].reshape((512))\n",
        "    cosine=True\n",
        "\n",
        "  except KeyError:\n",
        "    print(word1, \":[unk] key not found in dictionary\")\n",
        "\n",
        "  try:\n",
        "    b=model2.wv[word2].reshape((512))\n",
        "  \n",
        "  except KeyError:\n",
        "    cosine=False\n",
        "    print(word2, \":[unk] key not found in dictionary\")\n",
        "\n",
        "  if(cosine==True):\n",
        "        b=model2.wv[word2].reshape((512))\n",
        "        # compute cosine similarity\n",
        "        dot = np.dot(a, b)\n",
        "        norma = np.linalg.norm(a)\n",
        "        normb = np.linalg.norm(b)\n",
        "        cos = dot / (norma * normb)\n",
        "\n",
        "        aa = a.reshape(1, 512)\n",
        "        ba = b.reshape(1, 512)\n",
        "        #print(\"Word1\", aa)\n",
        "        #print(\"Word2\", ba)\n",
        "        cos_lib = cosine_similarity(aa, ba)\n",
        "        #print(cos_lib, \"word_similarity\")\n",
        "\n",
        "\n",
        "  if(cosine==False):cos_lib=0;\n",
        "  return cos_lib"
      ],
      "execution_count": null,
      "outputs": []
    },
    {
      "cell_type": "code",
      "metadata": {
        "colab": {
          "base_uri": "https://localhost:8080/"
        },
        "id": "p1CcQtP5_vqK",
        "outputId": "037d59bc-981b-4147-8222-af2c95e18bb5"
      },
      "source": [
        "#@title Case 0: Words in Text and dictionary\n",
        "word1=\"freedom\";word2=\"liberty\"\n",
        "print(\"Similarity\", similarity(word1, word2), word1, word2)"
      ],
      "execution_count": null,
      "outputs": [
        {
          "output_type": "stream",
          "name": "stdout",
          "text": [
            "Similarity [[0.3694222]] freedom liberty\n"
          ]
        }
      ]
    },
    {
      "cell_type": "code",
      "metadata": {
        "colab": {
          "base_uri": "https://localhost:8080/"
        },
        "id": "80hG06whAJGE",
        "outputId": "7505ae69-d917-41dd-e39f-e769bad3ea64"
      },
      "source": [
        "#@title Case 1: Word not in Text or dictionary\n",
        "word1=\"corporations\";word2=\"rights\"\n",
        "print(\"Similarity\", similarity(word1, word2), word1, word2)"
      ],
      "execution_count": null,
      "outputs": [
        {
          "output_type": "stream",
          "name": "stdout",
          "text": [
            "corporations :[unk] key not found in dictionary\n",
            "Similarity 0 corporations rights\n"
          ]
        }
      ]
    },
    {
      "cell_type": "code",
      "metadata": {
        "colab": {
          "base_uri": "https://localhost:8080/"
        },
        "id": "zl5MMRkvCdma",
        "outputId": "e2ed68c1-253f-4995-d4d4-a47e6ec09f97"
      },
      "source": [
        "#@title Case 2: Noisy Relationship\n",
        "word1=\"justiciar\";word2=\"judgement\"\n",
        "print(\"Similarity\", similarity(word1, word2), word1, word2)"
      ],
      "execution_count": null,
      "outputs": [
        {
          "output_type": "stream",
          "name": "stdout",
          "text": [
            "Similarity [[0.25422132]] justiciar judgement\n"
          ]
        }
      ]
    },
    {
      "cell_type": "code",
      "metadata": {
        "colab": {
          "base_uri": "https://localhost:8080/"
        },
        "id": "FtjoxNQLCw4t",
        "outputId": "19a32644-790d-4032-99a1-6cd0c473de75"
      },
      "source": [
        "#@title Case 3: Replacing Words\n",
        "word1=\"judge\";word2=\"judgement\"\n",
        "print(\"Similarity\", similarity(word1, word2), word1, word2)\n",
        "\n",
        "word1=\"justiciar\";word2=\"judge\"\n",
        "print(\"Similarity\", similarity(word1, word2), word1, word2)"
      ],
      "execution_count": null,
      "outputs": [
        {
          "output_type": "stream",
          "name": "stdout",
          "text": [
            "Similarity [[0.17141145]] judge judgement\n",
            "Similarity [[0.35247546]] justiciar judge\n"
          ]
        }
      ]
    },
    {
      "cell_type": "code",
      "metadata": {
        "colab": {
          "base_uri": "https://localhost:8080/"
        },
        "id": "ADdIEeuWDERN",
        "outputId": "391216d2-674b-4d91-f365-112736f8cd22"
      },
      "source": [
        "#@title Case 4: Entailment\n",
        "word1=\"pay\";word2=\"debt\"\n",
        "print(\"Similarity\", similarity(word1, word2), word1, word2)"
      ],
      "execution_count": null,
      "outputs": [
        {
          "output_type": "stream",
          "name": "stdout",
          "text": [
            "Similarity [[0.49494773]] pay debt\n"
          ]
        }
      ]
    },
    {
      "cell_type": "code",
      "metadata": {
        "id": "R6NK-v0aDTTs"
      },
      "source": [
        ""
      ],
      "execution_count": null,
      "outputs": []
    }
  ]
}